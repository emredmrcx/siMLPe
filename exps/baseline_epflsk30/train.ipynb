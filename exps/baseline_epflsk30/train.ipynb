{
 "cells": [
  {
   "cell_type": "code",
   "execution_count": null,
   "id": "d7de5955",
   "metadata": {},
   "outputs": [],
   "source": [
    "import os\n",
    "os.environ['CUBLAS_WORKSPACE_CONFIG'] = ':4096:8'\n",
    "\n",
    "import argparse\n",
    "import sys\n",
    "import json\n",
    "import math\n",
    "import numpy as np\n",
    "import copy\n",
    "from tqdm import tqdm\n",
    "import wandb\n",
    "\n",
    "from config import config\n",
    "from model import siMLPe as Model\n",
    "from datasets.epfl_sk30 import EPFLSK30Dataset\n",
    "from utils.logger import get_logger, print_and_log_info\n",
    "from utils.pyt_utils import link_file, ensure_dir\n",
    "from datasets.epfl_sk30_eval import EPFLSK30Eval\n",
    "\n",
    "from test import test\n",
    "\n",
    "import torch\n",
    "from torch.utils.data import DataLoader"
   ]
  },
  {
   "cell_type": "code",
   "execution_count": 2,
   "id": "f99edf6a",
   "metadata": {},
   "outputs": [],
   "source": [
    "# Joint names for EPFL-SK30 dataset\n",
    "joint_names = [\n",
    "    'Root',\n",
    "    'LeftHead',\n",
    "    'RightHead',\n",
    "    'LeftBody',\n",
    "    'RightBody',\n",
    "    'LeftShoulder',\n",
    "    'RightShoulder',\n",
    "    'LeftArm',\n",
    "    'RightArm',\n",
    "    'LeftForearm',\n",
    "    'RightForearm',\n",
    "    'LeftHip',\n",
    "    'RightHip',\n",
    "    'LeftKnee',\n",
    "    'RightKnee',\n",
    "    'LeftFoot',\n",
    "    'RightFoot'\n",
    "]\n"
   ]
  },
  {
   "cell_type": "code",
   "execution_count": 3,
   "id": "b35c2c15",
   "metadata": {},
   "outputs": [
    {
     "name": "stderr",
     "output_type": "stream",
     "text": [
      "\u001b[34m\u001b[1mwandb\u001b[0m: Currently logged in as: \u001b[33memredmrcx\u001b[0m (\u001b[33memredmrcx-itu-edu-tr\u001b[0m) to \u001b[32mhttps://api.wandb.ai\u001b[0m. Use \u001b[1m`wandb login --relogin`\u001b[0m to force relogin\n"
     ]
    },
    {
     "data": {
      "text/html": [],
      "text/plain": [
       "<IPython.core.display.HTML object>"
      ]
     },
     "metadata": {},
     "output_type": "display_data"
    },
    {
     "data": {
      "text/html": [
       "Tracking run with wandb version 0.22.1"
      ],
      "text/plain": [
       "<IPython.core.display.HTML object>"
      ]
     },
     "metadata": {},
     "output_type": "display_data"
    },
    {
     "data": {
      "text/html": [
       "Run data is saved locally in <code>/home/ai/emre/siMLPe/exps/baseline_epflsk30/wandb/run-20251023_124417-00hh5f09</code>"
      ],
      "text/plain": [
       "<IPython.core.display.HTML object>"
      ]
     },
     "metadata": {},
     "output_type": "display_data"
    },
    {
     "data": {
      "text/html": [
       "Syncing run <strong><a href='https://wandb.ai/emredmrcx-itu-edu-tr/siMLPe-EPFL-SK30/runs/00hh5f09' target=\"_blank\">epfl_sk30_baseline</a></strong> to <a href='https://wandb.ai/emredmrcx-itu-edu-tr/siMLPe-EPFL-SK30' target=\"_blank\">Weights & Biases</a> (<a href='https://wandb.me/developer-guide' target=\"_blank\">docs</a>)<br>"
      ],
      "text/plain": [
       "<IPython.core.display.HTML object>"
      ]
     },
     "metadata": {},
     "output_type": "display_data"
    },
    {
     "data": {
      "text/html": [
       " View project at <a href='https://wandb.ai/emredmrcx-itu-edu-tr/siMLPe-EPFL-SK30' target=\"_blank\">https://wandb.ai/emredmrcx-itu-edu-tr/siMLPe-EPFL-SK30</a>"
      ],
      "text/plain": [
       "<IPython.core.display.HTML object>"
      ]
     },
     "metadata": {},
     "output_type": "display_data"
    },
    {
     "data": {
      "text/html": [
       " View run at <a href='https://wandb.ai/emredmrcx-itu-edu-tr/siMLPe-EPFL-SK30/runs/00hh5f09' target=\"_blank\">https://wandb.ai/emredmrcx-itu-edu-tr/siMLPe-EPFL-SK30/runs/00hh5f09</a>"
      ],
      "text/plain": [
       "<IPython.core.display.HTML object>"
      ]
     },
     "metadata": {},
     "output_type": "display_data"
    },
    {
     "data": {
      "text/plain": [
       "11"
      ]
     },
     "execution_count": 3,
     "metadata": {},
     "output_type": "execute_result"
    }
   ],
   "source": [
    "exp_name = \"epfl_sk30_baseline\"\n",
    "\n",
    "torch.use_deterministic_algorithms(True)\n",
    "acc_log = open(exp_name, 'a')\n",
    "torch.manual_seed(config.seed)\n",
    "\n",
    "# Initialize wandb\n",
    "wandb.init(\n",
    "    project=\"siMLPe-EPFL-SK30\",\n",
    "    name=exp_name,\n",
    "    config={\n",
    "        \"exp_name\": exp_name,\n",
    "        \"seed\": config.seed,\n",
    "        \"with_normalization\": config.motion_mlp.with_normalization,\n",
    "        \"spatial_fc\": config.motion_mlp.spatial_fc_only,\n",
    "        \"num_layers\": config.motion_mlp.num_layers,\n",
    "        # Model config\n",
    "        \"motion_input_length\": config.motion.epfl_input_length,\n",
    "        \"motion_target_length_train\": config.motion.epfl_target_length_train,\n",
    "        \"motion_target_length_eval\": config.motion.epfl_target_length_eval,\n",
    "        \"motion_dim\": config.motion.dim,\n",
    "        \"data_aug\": config.data_aug,\n",
    "        \"deriv_input\": config.deriv_input,\n",
    "        \"deriv_output\": config.deriv_output,\n",
    "        \"use_relative_loss\": config.use_relative_loss,\n",
    "        # Training config\n",
    "        \"batch_size\": config.batch_size,\n",
    "        \"num_workers\": config.num_workers,\n",
    "        \"cos_lr_max\": config.cos_lr_max,\n",
    "        \"cos_lr_min\": config.cos_lr_min,\n",
    "        \"cos_lr_total_iters\": config.cos_lr_total_iters,\n",
    "        \"weight_decay\": config.weight_decay,\n",
    "        \"print_every\": config.print_every,\n",
    "        \"save_steps\": config.save_steps,\n",
    "        \"num_epochs\": config.num_epochs\n",
    "    }\n",
    ")\n",
    "\n",
    "\n",
    "acc_log.write(''.join('Seed : ' + str(config.seed) + '\\n'))"
   ]
  },
  {
   "cell_type": "code",
   "execution_count": 4,
   "id": "a16c67aa",
   "metadata": {},
   "outputs": [],
   "source": [
    "def get_dct_matrix(N):\n",
    "    dct_m = np.eye(N)\n",
    "    for k in np.arange(N):\n",
    "        for i in np.arange(N):\n",
    "            w = np.sqrt(2 / N)\n",
    "            if k == 0:\n",
    "                w = np.sqrt(1 / N)\n",
    "            dct_m[k, i] = w * np.cos(np.pi * (i + 1 / 2) * k / N)\n",
    "    idct_m = np.linalg.inv(dct_m)\n",
    "    return dct_m, idct_m\n",
    "\n",
    "dct_m,idct_m = get_dct_matrix(config.motion.epfl_input_length_dct)\n",
    "dct_m = torch.tensor(dct_m).float().cuda().unsqueeze(0)\n",
    "idct_m = torch.tensor(idct_m).float().cuda().unsqueeze(0)\n",
    " "
   ]
  },
  {
   "cell_type": "code",
   "execution_count": 5,
   "id": "e62e42f1",
   "metadata": {},
   "outputs": [],
   "source": [
    "def update_lr_multistep(nb_iter, total_iter, max_lr, min_lr, optimizer) :\n",
    "    if nb_iter > 30000:\n",
    "        current_lr = 1e-5\n",
    "    else:\n",
    "        current_lr = 3e-4\n",
    "\n",
    "    for param_group in optimizer.param_groups:\n",
    "        param_group[\"lr\"] = current_lr\n",
    "\n",
    "    return optimizer, current_lr\n",
    "\n",
    "def gen_velocity(m):\n",
    "    dm = m[:, 1:] - m[:, :-1]\n",
    "    return dm"
   ]
  },
  {
   "cell_type": "code",
   "execution_count": 6,
   "id": "6237adf5",
   "metadata": {},
   "outputs": [],
   "source": [
    "def train_step(epfl_motion_input, epfl_motion_target, model, optimizer, nb_iter, total_iter, max_lr, min_lr) :\n",
    "    \n",
    "    # Input shape: (b, n, 17, 3) - reshape to (b, n, 51) for model\n",
    "    b, n, num_joints, _ = epfl_motion_input.shape\n",
    "    epfl_motion_input_flat = epfl_motion_input.reshape(b, n, -1)  # (b, n, 51)\n",
    "    \n",
    "    if config.deriv_input:\n",
    "        epfl_motion_input_ = epfl_motion_input_flat.clone()\n",
    "        epfl_motion_input_ = torch.matmul(dct_m[:, :, :config.motion.epfl_input_length], epfl_motion_input_.cuda())\n",
    "    else:\n",
    "        epfl_motion_input_ = epfl_motion_input_flat.clone()\n",
    "\n",
    "    motion_pred = model(epfl_motion_input_.cuda())\n",
    "    motion_pred = torch.matmul(idct_m[:, :config.motion.epfl_input_length, :], motion_pred)\n",
    "\n",
    "    if config.deriv_output:\n",
    "        offset = epfl_motion_input_flat[:, -1:].cuda()\n",
    "        motion_pred = motion_pred[:, :config.motion.epfl_target_length_train] + offset\n",
    "    else:\n",
    "        motion_pred = motion_pred[:, :config.motion.epfl_target_length_train]\n",
    "\n",
    "    b_target, n_target, _, _ = epfl_motion_target.shape\n",
    "    motion_pred = motion_pred.reshape(b_target, n_target, 17, 3)\n",
    "    \n",
    "\n",
    "    position_loss = torch.mean(torch.norm(motion_pred - epfl_motion_target.cuda(), 2, 3))\n",
    "\n",
    "    velocity_loss = 0.0\n",
    "    if config.use_relative_loss:\n",
    "        dmotion_pred = gen_velocity(motion_pred)\n",
    "        dmotion_gt = gen_velocity(epfl_motion_target.cuda())\n",
    "        velocity_loss = torch.mean(torch.norm(dmotion_pred - dmotion_gt, 2, 3))\n",
    "        loss = position_loss + velocity_loss\n",
    "    else:\n",
    "        loss = position_loss\n",
    "\n",
    "    optimizer.zero_grad()\n",
    "    loss.backward()\n",
    "    optimizer.step()\n",
    "    optimizer, current_lr = update_lr_multistep(nb_iter, total_iter, max_lr, min_lr, optimizer)\n",
    "    \n",
    "    # Log metrics to wandb\n",
    "    wandb.log({\n",
    "        \"train/loss\": loss.detach().cpu().item(),\n",
    "        \"train/position_loss\": position_loss.detach().cpu().item(),\n",
    "        \"train/velocity_loss\": velocity_loss.detach().cpu().item() if config.use_relative_loss else 0.0,\n",
    "        \"train/learning_rate\": current_lr,\n",
    "    })\n",
    "\n",
    "    return loss.item(), optimizer, current_lr"
   ]
  },
  {
   "cell_type": "code",
   "execution_count": 7,
   "id": "f211b945",
   "metadata": {},
   "outputs": [
    {
     "data": {
      "text/plain": [
       "siMLPe(\n",
       "  (arr0): Rearrange('b n d -> b d n')\n",
       "  (arr1): Rearrange('b d n -> b n d')\n",
       "  (motion_mlp): TransMLP(\n",
       "    (mlps): Sequential(\n",
       "      (0): MLPblock(\n",
       "        (fc0): Temporal_FC(\n",
       "          (fc): Linear(in_features=50, out_features=50, bias=True)\n",
       "        )\n",
       "        (norm0): LN()\n",
       "      )\n",
       "      (1): MLPblock(\n",
       "        (fc0): Temporal_FC(\n",
       "          (fc): Linear(in_features=50, out_features=50, bias=True)\n",
       "        )\n",
       "        (norm0): LN()\n",
       "      )\n",
       "      (2): MLPblock(\n",
       "        (fc0): Temporal_FC(\n",
       "          (fc): Linear(in_features=50, out_features=50, bias=True)\n",
       "        )\n",
       "        (norm0): LN()\n",
       "      )\n",
       "      (3): MLPblock(\n",
       "        (fc0): Temporal_FC(\n",
       "          (fc): Linear(in_features=50, out_features=50, bias=True)\n",
       "        )\n",
       "        (norm0): LN()\n",
       "      )\n",
       "      (4): MLPblock(\n",
       "        (fc0): Temporal_FC(\n",
       "          (fc): Linear(in_features=50, out_features=50, bias=True)\n",
       "        )\n",
       "        (norm0): LN()\n",
       "      )\n",
       "      (5): MLPblock(\n",
       "        (fc0): Temporal_FC(\n",
       "          (fc): Linear(in_features=50, out_features=50, bias=True)\n",
       "        )\n",
       "        (norm0): LN()\n",
       "      )\n",
       "      (6): MLPblock(\n",
       "        (fc0): Temporal_FC(\n",
       "          (fc): Linear(in_features=50, out_features=50, bias=True)\n",
       "        )\n",
       "        (norm0): LN()\n",
       "      )\n",
       "      (7): MLPblock(\n",
       "        (fc0): Temporal_FC(\n",
       "          (fc): Linear(in_features=50, out_features=50, bias=True)\n",
       "        )\n",
       "        (norm0): LN()\n",
       "      )\n",
       "      (8): MLPblock(\n",
       "        (fc0): Temporal_FC(\n",
       "          (fc): Linear(in_features=50, out_features=50, bias=True)\n",
       "        )\n",
       "        (norm0): LN()\n",
       "      )\n",
       "      (9): MLPblock(\n",
       "        (fc0): Temporal_FC(\n",
       "          (fc): Linear(in_features=50, out_features=50, bias=True)\n",
       "        )\n",
       "        (norm0): LN()\n",
       "      )\n",
       "      (10): MLPblock(\n",
       "        (fc0): Temporal_FC(\n",
       "          (fc): Linear(in_features=50, out_features=50, bias=True)\n",
       "        )\n",
       "        (norm0): LN()\n",
       "      )\n",
       "      (11): MLPblock(\n",
       "        (fc0): Temporal_FC(\n",
       "          (fc): Linear(in_features=50, out_features=50, bias=True)\n",
       "        )\n",
       "        (norm0): LN()\n",
       "      )\n",
       "      (12): MLPblock(\n",
       "        (fc0): Temporal_FC(\n",
       "          (fc): Linear(in_features=50, out_features=50, bias=True)\n",
       "        )\n",
       "        (norm0): LN()\n",
       "      )\n",
       "      (13): MLPblock(\n",
       "        (fc0): Temporal_FC(\n",
       "          (fc): Linear(in_features=50, out_features=50, bias=True)\n",
       "        )\n",
       "        (norm0): LN()\n",
       "      )\n",
       "      (14): MLPblock(\n",
       "        (fc0): Temporal_FC(\n",
       "          (fc): Linear(in_features=50, out_features=50, bias=True)\n",
       "        )\n",
       "        (norm0): LN()\n",
       "      )\n",
       "      (15): MLPblock(\n",
       "        (fc0): Temporal_FC(\n",
       "          (fc): Linear(in_features=50, out_features=50, bias=True)\n",
       "        )\n",
       "        (norm0): LN()\n",
       "      )\n",
       "      (16): MLPblock(\n",
       "        (fc0): Temporal_FC(\n",
       "          (fc): Linear(in_features=50, out_features=50, bias=True)\n",
       "        )\n",
       "        (norm0): LN()\n",
       "      )\n",
       "      (17): MLPblock(\n",
       "        (fc0): Temporal_FC(\n",
       "          (fc): Linear(in_features=50, out_features=50, bias=True)\n",
       "        )\n",
       "        (norm0): LN()\n",
       "      )\n",
       "      (18): MLPblock(\n",
       "        (fc0): Temporal_FC(\n",
       "          (fc): Linear(in_features=50, out_features=50, bias=True)\n",
       "        )\n",
       "        (norm0): LN()\n",
       "      )\n",
       "      (19): MLPblock(\n",
       "        (fc0): Temporal_FC(\n",
       "          (fc): Linear(in_features=50, out_features=50, bias=True)\n",
       "        )\n",
       "        (norm0): LN()\n",
       "      )\n",
       "      (20): MLPblock(\n",
       "        (fc0): Temporal_FC(\n",
       "          (fc): Linear(in_features=50, out_features=50, bias=True)\n",
       "        )\n",
       "        (norm0): LN()\n",
       "      )\n",
       "      (21): MLPblock(\n",
       "        (fc0): Temporal_FC(\n",
       "          (fc): Linear(in_features=50, out_features=50, bias=True)\n",
       "        )\n",
       "        (norm0): LN()\n",
       "      )\n",
       "      (22): MLPblock(\n",
       "        (fc0): Temporal_FC(\n",
       "          (fc): Linear(in_features=50, out_features=50, bias=True)\n",
       "        )\n",
       "        (norm0): LN()\n",
       "      )\n",
       "      (23): MLPblock(\n",
       "        (fc0): Temporal_FC(\n",
       "          (fc): Linear(in_features=50, out_features=50, bias=True)\n",
       "        )\n",
       "        (norm0): LN()\n",
       "      )\n",
       "      (24): MLPblock(\n",
       "        (fc0): Temporal_FC(\n",
       "          (fc): Linear(in_features=50, out_features=50, bias=True)\n",
       "        )\n",
       "        (norm0): LN()\n",
       "      )\n",
       "      (25): MLPblock(\n",
       "        (fc0): Temporal_FC(\n",
       "          (fc): Linear(in_features=50, out_features=50, bias=True)\n",
       "        )\n",
       "        (norm0): LN()\n",
       "      )\n",
       "      (26): MLPblock(\n",
       "        (fc0): Temporal_FC(\n",
       "          (fc): Linear(in_features=50, out_features=50, bias=True)\n",
       "        )\n",
       "        (norm0): LN()\n",
       "      )\n",
       "      (27): MLPblock(\n",
       "        (fc0): Temporal_FC(\n",
       "          (fc): Linear(in_features=50, out_features=50, bias=True)\n",
       "        )\n",
       "        (norm0): LN()\n",
       "      )\n",
       "      (28): MLPblock(\n",
       "        (fc0): Temporal_FC(\n",
       "          (fc): Linear(in_features=50, out_features=50, bias=True)\n",
       "        )\n",
       "        (norm0): LN()\n",
       "      )\n",
       "      (29): MLPblock(\n",
       "        (fc0): Temporal_FC(\n",
       "          (fc): Linear(in_features=50, out_features=50, bias=True)\n",
       "        )\n",
       "        (norm0): LN()\n",
       "      )\n",
       "      (30): MLPblock(\n",
       "        (fc0): Temporal_FC(\n",
       "          (fc): Linear(in_features=50, out_features=50, bias=True)\n",
       "        )\n",
       "        (norm0): LN()\n",
       "      )\n",
       "      (31): MLPblock(\n",
       "        (fc0): Temporal_FC(\n",
       "          (fc): Linear(in_features=50, out_features=50, bias=True)\n",
       "        )\n",
       "        (norm0): LN()\n",
       "      )\n",
       "      (32): MLPblock(\n",
       "        (fc0): Temporal_FC(\n",
       "          (fc): Linear(in_features=50, out_features=50, bias=True)\n",
       "        )\n",
       "        (norm0): LN()\n",
       "      )\n",
       "      (33): MLPblock(\n",
       "        (fc0): Temporal_FC(\n",
       "          (fc): Linear(in_features=50, out_features=50, bias=True)\n",
       "        )\n",
       "        (norm0): LN()\n",
       "      )\n",
       "      (34): MLPblock(\n",
       "        (fc0): Temporal_FC(\n",
       "          (fc): Linear(in_features=50, out_features=50, bias=True)\n",
       "        )\n",
       "        (norm0): LN()\n",
       "      )\n",
       "      (35): MLPblock(\n",
       "        (fc0): Temporal_FC(\n",
       "          (fc): Linear(in_features=50, out_features=50, bias=True)\n",
       "        )\n",
       "        (norm0): LN()\n",
       "      )\n",
       "      (36): MLPblock(\n",
       "        (fc0): Temporal_FC(\n",
       "          (fc): Linear(in_features=50, out_features=50, bias=True)\n",
       "        )\n",
       "        (norm0): LN()\n",
       "      )\n",
       "      (37): MLPblock(\n",
       "        (fc0): Temporal_FC(\n",
       "          (fc): Linear(in_features=50, out_features=50, bias=True)\n",
       "        )\n",
       "        (norm0): LN()\n",
       "      )\n",
       "      (38): MLPblock(\n",
       "        (fc0): Temporal_FC(\n",
       "          (fc): Linear(in_features=50, out_features=50, bias=True)\n",
       "        )\n",
       "        (norm0): LN()\n",
       "      )\n",
       "      (39): MLPblock(\n",
       "        (fc0): Temporal_FC(\n",
       "          (fc): Linear(in_features=50, out_features=50, bias=True)\n",
       "        )\n",
       "        (norm0): LN()\n",
       "      )\n",
       "      (40): MLPblock(\n",
       "        (fc0): Temporal_FC(\n",
       "          (fc): Linear(in_features=50, out_features=50, bias=True)\n",
       "        )\n",
       "        (norm0): LN()\n",
       "      )\n",
       "      (41): MLPblock(\n",
       "        (fc0): Temporal_FC(\n",
       "          (fc): Linear(in_features=50, out_features=50, bias=True)\n",
       "        )\n",
       "        (norm0): LN()\n",
       "      )\n",
       "      (42): MLPblock(\n",
       "        (fc0): Temporal_FC(\n",
       "          (fc): Linear(in_features=50, out_features=50, bias=True)\n",
       "        )\n",
       "        (norm0): LN()\n",
       "      )\n",
       "      (43): MLPblock(\n",
       "        (fc0): Temporal_FC(\n",
       "          (fc): Linear(in_features=50, out_features=50, bias=True)\n",
       "        )\n",
       "        (norm0): LN()\n",
       "      )\n",
       "      (44): MLPblock(\n",
       "        (fc0): Temporal_FC(\n",
       "          (fc): Linear(in_features=50, out_features=50, bias=True)\n",
       "        )\n",
       "        (norm0): LN()\n",
       "      )\n",
       "      (45): MLPblock(\n",
       "        (fc0): Temporal_FC(\n",
       "          (fc): Linear(in_features=50, out_features=50, bias=True)\n",
       "        )\n",
       "        (norm0): LN()\n",
       "      )\n",
       "      (46): MLPblock(\n",
       "        (fc0): Temporal_FC(\n",
       "          (fc): Linear(in_features=50, out_features=50, bias=True)\n",
       "        )\n",
       "        (norm0): LN()\n",
       "      )\n",
       "      (47): MLPblock(\n",
       "        (fc0): Temporal_FC(\n",
       "          (fc): Linear(in_features=50, out_features=50, bias=True)\n",
       "        )\n",
       "        (norm0): LN()\n",
       "      )\n",
       "    )\n",
       "  )\n",
       "  (motion_fc_in): Linear(in_features=51, out_features=51, bias=True)\n",
       "  (motion_fc_out): Linear(in_features=51, out_features=51, bias=True)\n",
       ")"
      ]
     },
     "execution_count": 7,
     "metadata": {},
     "output_type": "execute_result"
    }
   ],
   "source": [
    "model = Model(config)\n",
    "model.train()\n",
    "model.cuda()"
   ]
  },
  {
   "cell_type": "code",
   "execution_count": 8,
   "id": "efe44ba8",
   "metadata": {},
   "outputs": [],
   "source": [
    "dataset = EPFLSK30Dataset(config, 'train', config.data_aug)\n",
    "dataloader = DataLoader(dataset, batch_size=config.batch_size,\n",
    "                        num_workers=config.num_workers, drop_last=True,\n",
    "                        sampler=None, shuffle=True, pin_memory=True)\n",
    "\n"
   ]
  },
  {
   "cell_type": "code",
   "execution_count": 9,
   "id": "0cb94ad8",
   "metadata": {},
   "outputs": [
    {
     "name": "stdout",
     "output_type": "stream",
     "text": [
      "Length of training dataloader: 4353\n"
     ]
    }
   ],
   "source": [
    "print(f\"Length of training dataloader: {len(dataloader)}\")"
   ]
  },
  {
   "cell_type": "code",
   "execution_count": 15,
   "id": "9f0360ea",
   "metadata": {},
   "outputs": [],
   "source": [
    "eval_config = copy.deepcopy(config)\n",
    "eval_config.data_aug = False\n",
    "# Set both train and eval to use the same target length (eval length)\n",
    "# This ensures consistent evaluation between train and test splits\n",
    "eval_config.motion.epfl_target_length_train = eval_config.motion.epfl_target_length_eval\n",
    "\n",
    "eval_dataset = EPFLSK30Eval(eval_config, 'test')\n",
    "eval_dataloader = DataLoader(eval_dataset, batch_size=128,\n",
    "                        num_workers=eval_config.num_workers, drop_last=False,\n",
    "                        sampler=None, shuffle=False, pin_memory=True)"
   ]
  },
  {
   "cell_type": "code",
   "execution_count": 16,
   "id": "4f209623",
   "metadata": {},
   "outputs": [],
   "source": [
    "# Use EPFLSK30Eval (not EPFLSK30Dataset) so data format matches test set\n",
    "# This ensures both train and test evaluation use the same data pipeline\n",
    "train_eval_dataset = EPFLSK30Eval(eval_config, 'train')\n",
    "train_eval_dataloader = DataLoader(train_eval_dataset, batch_size=128,\n",
    "                        num_workers=eval_config.num_workers, drop_last=False,\n",
    "                        sampler=None, shuffle=False, pin_memory=True)"
   ]
  },
  {
   "cell_type": "code",
   "execution_count": 17,
   "id": "220efe97",
   "metadata": {},
   "outputs": [
    {
     "name": "stdout",
     "output_type": "stream",
     "text": [
      "Length of test evaluation dataloader: 4199\n",
      "Length of train evaluation dataloader: 8704\n"
     ]
    }
   ],
   "source": [
    "print(f\"Length of test evaluation dataloader: {len(eval_dataloader)}\")\n",
    "print(f\"Length of train evaluation dataloader: {len(train_eval_dataloader)}\")"
   ]
  },
  {
   "cell_type": "code",
   "execution_count": null,
   "id": "f6588e1e",
   "metadata": {},
   "outputs": [
    {
     "name": "stdout",
     "output_type": "stream",
     "text": [
      "4353\n"
     ]
    },
    {
     "name": "stderr",
     "output_type": "stream",
     "text": [
      "Epoch 0/10:   0%|          | 0/43530 [12:06<?, ?iter/s]"
     ]
    },
    {
     "name": "stderr",
     "output_type": "stream",
     "text": [
      "\n"
     ]
    },
    {
     "name": "stdout",
     "output_type": "stream",
     "text": [
      "Test MPJPE: [18.8, 35.4, 64.5, 77.5, 101.1, 122.2, 141.3, 154.4]\n"
     ]
    },
    {
     "name": "stderr",
     "output_type": "stream",
     "text": []
    },
    {
     "name": "stdout",
     "output_type": "stream",
     "text": [
      "Train MPJPE: [20.3, 38.4, 70.4, 84.8, 111.1, 134.8, 156.1, 170.9]\n"
     ]
    },
    {
     "name": "stderr",
     "output_type": "stream",
     "text": []
    },
    {
     "name": "stdout",
     "output_type": "stream",
     "text": [
      "Test MPJPE: [18.9, 35.4, 64.5, 77.5, 101.2, 122.3, 141.3, 154.5]\n"
     ]
    },
    {
     "name": "stderr",
     "output_type": "stream",
     "text": []
    },
    {
     "name": "stdout",
     "output_type": "stream",
     "text": [
      "Train MPJPE: [20.4, 38.4, 70.4, 84.8, 111.1, 134.8, 156.1, 170.9]\n"
     ]
    },
    {
     "name": "stderr",
     "output_type": "stream",
     "text": []
    },
    {
     "name": "stdout",
     "output_type": "stream",
     "text": [
      "Test MPJPE: [12.9, 25.2, 49.8, 61.9, 85.2, 106.8, 126.9, 141.0]\n"
     ]
    },
    {
     "name": "stderr",
     "output_type": "stream",
     "text": []
    },
    {
     "name": "stdout",
     "output_type": "stream",
     "text": [
      "Train MPJPE: [13.2, 25.9, 52.0, 65.1, 90.7, 114.9, 137.5, 153.4]\n"
     ]
    },
    {
     "name": "stderr",
     "output_type": "stream",
     "text": []
    },
    {
     "name": "stdout",
     "output_type": "stream",
     "text": [
      "Test MPJPE: [12.0, 22.8, 46.0, 57.6, 80.9, 102.8, 123.4, 137.7]\n"
     ]
    },
    {
     "name": "stderr",
     "output_type": "stream",
     "text": []
    },
    {
     "name": "stdout",
     "output_type": "stream",
     "text": [
      "Train MPJPE: [12.6, 23.9, 48.3, 60.9, 86.6, 111.0, 134.2, 150.4]\n"
     ]
    },
    {
     "name": "stderr",
     "output_type": "stream",
     "text": []
    },
    {
     "name": "stdout",
     "output_type": "stream",
     "text": [
      "Test MPJPE: [9.6, 20.0, 42.0, 53.3, 76.1, 98.2, 118.8, 133.6]\n"
     ]
    },
    {
     "name": "stderr",
     "output_type": "stream",
     "text": []
    },
    {
     "name": "stdout",
     "output_type": "stream",
     "text": [
      "Train MPJPE: [9.9, 20.8, 44.1, 56.1, 80.7, 105.0, 127.9, 144.6]\n"
     ]
    },
    {
     "name": "stderr",
     "output_type": "stream",
     "text": []
    },
    {
     "name": "stdout",
     "output_type": "stream",
     "text": [
      "Test MPJPE: [8.9, 18.6, 39.3, 50.0, 71.8, 93.1, 113.2, 127.4]\n"
     ]
    },
    {
     "name": "stderr",
     "output_type": "stream",
     "text": []
    },
    {
     "name": "stdout",
     "output_type": "stream",
     "text": [
      "Train MPJPE: [9.1, 19.2, 41.0, 52.3, 75.6, 99.0, 121.5, 137.5]\n"
     ]
    },
    {
     "name": "stderr",
     "output_type": "stream",
     "text": []
    },
    {
     "name": "stdout",
     "output_type": "stream",
     "text": [
      "Test MPJPE: [8.5, 18.0, 38.3, 48.8, 70.4, 91.7, 111.9, 126.3]\n"
     ]
    },
    {
     "name": "stderr",
     "output_type": "stream",
     "text": []
    },
    {
     "name": "stdout",
     "output_type": "stream",
     "text": [
      "Train MPJPE: [8.7, 18.6, 39.8, 50.9, 74.0, 97.3, 119.8, 135.9]\n"
     ]
    },
    {
     "name": "stderr",
     "output_type": "stream",
     "text": []
    },
    {
     "name": "stdout",
     "output_type": "stream",
     "text": [
      "Test MPJPE: [8.3, 17.7, 37.6, 48.0, 69.5, 90.4, 110.4, 124.7]\n"
     ]
    },
    {
     "name": "stderr",
     "output_type": "stream",
     "text": []
    },
    {
     "name": "stdout",
     "output_type": "stream",
     "text": [
      "Train MPJPE: [8.5, 18.3, 38.9, 49.7, 72.4, 95.2, 117.3, 133.3]\n"
     ]
    },
    {
     "name": "stderr",
     "output_type": "stream",
     "text": []
    },
    {
     "name": "stdout",
     "output_type": "stream",
     "text": [
      "Test MPJPE: [8.2, 17.5, 37.3, 47.5, 68.3, 89.3, 109.4, 123.7]\n"
     ]
    },
    {
     "name": "stderr",
     "output_type": "stream",
     "text": []
    },
    {
     "name": "stdout",
     "output_type": "stream",
     "text": [
      "Train MPJPE: [8.4, 18.1, 38.5, 49.1, 71.2, 94.2, 116.7, 132.9]\n"
     ]
    },
    {
     "name": "stderr",
     "output_type": "stream",
     "text": []
    },
    {
     "name": "stdout",
     "output_type": "stream",
     "text": [
      "Test MPJPE: [7.9, 17.0, 36.1, 46.1, 66.7, 87.1, 106.8, 120.8]\n"
     ]
    },
    {
     "name": "stderr",
     "output_type": "stream",
     "text": []
    },
    {
     "name": "stdout",
     "output_type": "stream",
     "text": [
      "Train MPJPE: [8.1, 17.4, 37.0, 47.3, 69.0, 91.0, 112.6, 128.3]\n"
     ]
    },
    {
     "name": "stderr",
     "output_type": "stream",
     "text": []
    },
    {
     "name": "stdout",
     "output_type": "stream",
     "text": [
      "Test MPJPE: [7.9, 16.9, 35.9, 45.9, 66.5, 86.9, 106.6, 120.6]\n"
     ]
    },
    {
     "name": "stderr",
     "output_type": "stream",
     "text": []
    },
    {
     "name": "stdout",
     "output_type": "stream",
     "text": [
      "Train MPJPE: [8.1, 17.3, 36.8, 47.1, 68.6, 90.5, 112.1, 127.6]\n"
     ]
    },
    {
     "name": "stderr",
     "output_type": "stream",
     "text": [
      "Epoch 10/10: 100%|██████████| 43530/43530 [1:19:55<00:00,  9.08iter/s, epoch=9, loss=0.0295, lr=1.00e-05, iter=43530]\n"
     ]
    },
    {
     "data": {
      "text/html": [],
      "text/plain": [
       "<IPython.core.display.HTML object>"
      ]
     },
     "metadata": {},
     "output_type": "display_data"
    },
    {
     "data": {
      "text/html": [
       "<br>    <style><br>        .wandb-row {<br>            display: flex;<br>            flex-direction: row;<br>            flex-wrap: wrap;<br>            justify-content: flex-start;<br>            width: 100%;<br>        }<br>        .wandb-col {<br>            display: flex;<br>            flex-direction: column;<br>            flex-basis: 100%;<br>            flex: 1;<br>            padding: 10px;<br>        }<br>    </style><br><div class=\"wandb-row\"><div class=\"wandb-col\"><h3>Run history:</h3><br/><table class=\"wandb\"><tr><td>epoch</td><td>▁▁▁▂▃▃▄▅▆▇█</td></tr><tr><td>frame_10/LeftArm/gap</td><td>██▃▄▃▂▂▂▁▁▁</td></tr><tr><td>frame_10/LeftArm/test</td><td>██▅▄▃▂▂▂▁▁▁</td></tr><tr><td>frame_10/LeftArm/train</td><td>██▄▄▃▂▂▂▁▁▁</td></tr><tr><td>frame_10/LeftBody/gap</td><td>██▃▃▃▂▂▂▁▁▁</td></tr><tr><td>frame_10/LeftBody/test</td><td>██▄▃▂▂▁▁▁▁▁</td></tr><tr><td>frame_10/LeftBody/train</td><td>██▄▃▂▂▂▁▁▁▁</td></tr><tr><td>frame_10/LeftFoot/gap</td><td>██▆▆▅▄▄▃▂▁▁</td></tr><tr><td>frame_10/LeftFoot/test</td><td>██▆▅▄▃▂▂▂▁▁</td></tr><tr><td>frame_10/LeftFoot/train</td><td>██▆▅▄▃▃▂▂▁▁</td></tr><tr><td>+428</td><td>...</td></tr></table><br/></div><div class=\"wandb-col\"><h3>Run summary:</h3><br/><table class=\"wandb\"><tr><td>epoch</td><td>9</td></tr><tr><td>frame_10/LeftArm/gap</td><td>3.64989</td></tr><tr><td>frame_10/LeftArm/test</td><td>53.83376</td></tr><tr><td>frame_10/LeftArm/train</td><td>57.48365</td></tr><tr><td>frame_10/LeftBody/gap</td><td>1.91156</td></tr><tr><td>frame_10/LeftBody/test</td><td>39.84282</td></tr><tr><td>frame_10/LeftBody/train</td><td>41.75439</td></tr><tr><td>frame_10/LeftFoot/gap</td><td>-0.52858</td></tr><tr><td>frame_10/LeftFoot/test</td><td>33.40074</td></tr><tr><td>frame_10/LeftFoot/train</td><td>32.87217</td></tr><tr><td>+428</td><td>...</td></tr></table><br/></div></div>"
      ],
      "text/plain": [
       "<IPython.core.display.HTML object>"
      ]
     },
     "metadata": {},
     "output_type": "display_data"
    },
    {
     "data": {
      "text/html": [
       " View run <strong style=\"color:#cdcd00\">epfl_sk30_baseline</strong> at: <a href='https://wandb.ai/emredmrcx-itu-edu-tr/siMLPe-EPFL-SK30/runs/00hh5f09' target=\"_blank\">https://wandb.ai/emredmrcx-itu-edu-tr/siMLPe-EPFL-SK30/runs/00hh5f09</a><br> View project at: <a href='https://wandb.ai/emredmrcx-itu-edu-tr/siMLPe-EPFL-SK30' target=\"_blank\">https://wandb.ai/emredmrcx-itu-edu-tr/siMLPe-EPFL-SK30</a><br>Synced 5 W&B file(s), 0 media file(s), 0 artifact file(s) and 11 other file(s)"
      ],
      "text/plain": [
       "<IPython.core.display.HTML object>"
      ]
     },
     "metadata": {},
     "output_type": "display_data"
    },
    {
     "data": {
      "text/html": [
       "Find logs at: <code>./wandb/run-20251023_124417-00hh5f09/logs</code>"
      ],
      "text/plain": [
       "<IPython.core.display.HTML object>"
      ]
     },
     "metadata": {},
     "output_type": "display_data"
    }
   ],
   "source": [
    "# initialize optimizer\n",
    "optimizer = torch.optim.Adam(model.parameters(),\n",
    "                             lr=config.cos_lr_max,\n",
    "                             weight_decay=config.weight_decay)\n",
    "\n",
    "ensure_dir(config.snapshot_dir)\n",
    "logger = get_logger(config.log_file, 'train')\n",
    "link_file(config.log_file, config.link_log_file)\n",
    "\n",
    "print_and_log_info(logger, json.dumps(config, indent=4, sort_keys=True))\n",
    "\n",
    "if config.model_pth is not None :\n",
    "    state_dict = torch.load(config.model_pth)\n",
    "    model.load_state_dict(state_dict, strict=True)\n",
    "    print_and_log_info(logger, \"Loading model path from {} \".format(config.model_pth))\n",
    "    \n",
    "# Log model architecture to wandb\n",
    "wandb.watch(model)\n",
    "\n",
    "##### ------ training ------- #####\n",
    "nb_epoch = 0\n",
    "nb_iter = 0\n",
    "\n",
    "total_iters = len(dataloader) * config.num_epochs\n",
    "\n",
    "pbar = tqdm(total=total_iters, desc=f\"Epoch 0/{config.num_epochs}\", unit=\"iter\")\n",
    "\n",
    "while nb_epoch < config.num_epochs:\n",
    "    for (epfl_motion_input, epfl_motion_target) in dataloader:\n",
    "\n",
    "        loss, optimizer, current_lr = train_step(epfl_motion_input, epfl_motion_target, model, optimizer, nb_iter, total_iters, config.cos_lr_max, config.cos_lr_min)\n",
    "\n",
    "        if (nb_iter + 1) in config.save_steps:\n",
    "        \n",
    "            # Save model checkpoint\n",
    "            model_path = config.snapshot_dir + '/model-iter-' + str(nb_iter + 1) + '.pth'\n",
    "            torch.save(model.state_dict(), model_path)\n",
    "            \n",
    "            # Save model to wandb\n",
    "            wandb.save(model_path)\n",
    "            \n",
    "            # Evaluate model\n",
    "            model.eval()\n",
    "            results_keys = ['#2', '#4', '#8', '#10', '#14', '#18', '#22', '#25']\n",
    "            \n",
    "            # Evaluate on test set\n",
    "            ret_test, ret_per_joint_test = test(eval_config, model, eval_dataloader, return_per_joint=True)\n",
    "            pbar.write(f\"Test MPJPE: {ret_test}\")\n",
    "            \n",
    "            # Evaluate on train set\n",
    "            ret_train, ret_per_joint_train = test(eval_config, model, train_eval_dataloader, return_per_joint=True)\n",
    "            pbar.write(f\"Train MPJPE: {ret_train}\")\n",
    "            \n",
    "            # Log evaluation metrics to wandb\n",
    "            # Structure metrics so train/test appear on same graph in WandB\n",
    "            eval_metrics = {\"iteration\": nb_iter + 1,\n",
    "                            \"epoch\": nb_epoch}\n",
    "            \n",
    "            # Log overall MPJPE for each frame (train and test together)\n",
    "            for i, key in enumerate(results_keys):\n",
    "                frame_num = key.replace('#', 'frame_')\n",
    "                # Overall metrics - both train and test under same prefix\n",
    "                eval_metrics[f\"{frame_num}/overall/test\"] = ret_test[i]\n",
    "                eval_metrics[f\"{frame_num}/overall/train\"] = ret_train[i]\n",
    "                eval_metrics[f\"{frame_num}/overall/gap\"] = ret_train[i] - ret_test[i]  # Overfitting gap\n",
    "            \n",
    "            # Log per-joint MPJPE for each frame\n",
    "            for key in results_keys:\n",
    "                frame_num = key.replace('#', 'frame_')\n",
    "                per_joint_test = ret_per_joint_test[key]\n",
    "                per_joint_train = ret_per_joint_train[key]\n",
    "                \n",
    "                for joint_idx, joint_name in enumerate(joint_names):\n",
    "                    # Per-joint metrics - both train and test under same prefix\n",
    "                    eval_metrics[f\"{frame_num}/{joint_name}/test\"] = per_joint_test[joint_idx]\n",
    "                    eval_metrics[f\"{frame_num}/{joint_name}/train\"] = per_joint_train[joint_idx]\n",
    "                    eval_metrics[f\"{frame_num}/{joint_name}/gap\"] = per_joint_train[joint_idx] - per_joint_test[joint_idx]\n",
    "            \n",
    "            wandb.log(eval_metrics)\n",
    "            \n",
    "            \n",
    "            \n",
    "            # Write to log file\n",
    "            acc_log.write(''.join(str(nb_iter + 1) + '\\n'))\n",
    "            # Test set results\n",
    "            line_test = 'Test: '\n",
    "            for ii in ret_test:\n",
    "                line_test += str(ii) + ' '\n",
    "            line_test += '\\n'\n",
    "            # Train set results\n",
    "            line_train = 'Train: '\n",
    "            for ii in ret_train:\n",
    "                line_train += str(ii) + ' '\n",
    "            line_train += '\\n'\n",
    "            acc_log.write(''.join(line_test))\n",
    "            acc_log.write(''.join(line_train))\n",
    "            model.train()\n",
    "\n",
    "        # Update progress bar\n",
    "        pbar.update(1)\n",
    "        pbar.set_postfix({\n",
    "            'epoch': nb_epoch,\n",
    "            'loss': f'{loss:.4f}',\n",
    "            'lr': f'{current_lr:.2e}',\n",
    "            'iter': nb_iter + 1\n",
    "        })\n",
    "\n",
    "        # if (nb_iter + 1) == config.cos_lr_total_iters :\n",
    "        #     break\n",
    "        nb_iter += 1\n",
    "   \n",
    "    nb_epoch += 1\n",
    "    pbar.set_description(f\"Epoch {nb_epoch}/{config.num_epochs}\")\n",
    "    \n",
    "pbar.close()\n",
    "wandb.finish()\n"
   ]
  },
  {
   "cell_type": "code",
   "execution_count": null,
   "id": "0cc6cf00",
   "metadata": {},
   "outputs": [],
   "source": []
  }
 ],
 "metadata": {
  "kernelspec": {
   "display_name": "simlpe",
   "language": "python",
   "name": "python3"
  },
  "language_info": {
   "codemirror_mode": {
    "name": "ipython",
    "version": 3
   },
   "file_extension": ".py",
   "mimetype": "text/x-python",
   "name": "python",
   "nbconvert_exporter": "python",
   "pygments_lexer": "ipython3",
   "version": "3.9.23"
  }
 },
 "nbformat": 4,
 "nbformat_minor": 5
}
